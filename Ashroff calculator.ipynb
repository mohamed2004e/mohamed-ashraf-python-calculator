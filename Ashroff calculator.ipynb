{
 "cells": [
  {
   "cell_type": "code",
   "execution_count": 3,
   "id": "0ee8d5c1",
   "metadata": {},
   "outputs": [],
   "source": [
    "def calculator():\n",
    "    while True:\n",
    "        try:\n",
    "            num1 = float(input(\"Enter the first number: \"))\n",
    "            num2 = float(input(\"Enter the second number: \"))\n",
    "            operator = input(\"Enter the operator (+, -, *, /): \")\n",
    "\n",
    "            if operator == '+':\n",
    "                result = num1 + num2\n",
    "            elif operator == '-':\n",
    "                result = num1 - num2\n",
    "            elif operator == '*':\n",
    "                result = num1 * num2\n",
    "            elif operator == '/':\n",
    "                result = num1 / num2\n",
    "            else:\n",
    "                print(\"Invalid operator\")\n",
    "                continue\n",
    "\n",
    "            print(\"Result:\", result)\n",
    "            break\n",
    "\n",
    "        except ValueError:\n",
    "            print(\"The number you entered is wrong\")"
   ]
  },
  {
   "cell_type": "code",
   "execution_count": 4,
   "id": "8c0f4868",
   "metadata": {},
   "outputs": [
    {
     "name": "stdout",
     "output_type": "stream",
     "text": [
      "Enter the first number: 9\n",
      "Enter the second number: 8\n",
      "Enter the operator (+, -, *, /): *\n",
      "Result: 72.0\n"
     ]
    }
   ],
   "source": [
    "calculator()"
   ]
  },
  {
   "cell_type": "code",
   "execution_count": null,
   "id": "4ca3a49f",
   "metadata": {},
   "outputs": [],
   "source": []
  }
 ],
 "metadata": {
  "kernelspec": {
   "display_name": "Python 3 (ipykernel)",
   "language": "python",
   "name": "python3"
  },
  "language_info": {
   "codemirror_mode": {
    "name": "ipython",
    "version": 3
   },
   "file_extension": ".py",
   "mimetype": "text/x-python",
   "name": "python",
   "nbconvert_exporter": "python",
   "pygments_lexer": "ipython3",
   "version": "3.11.3"
  }
 },
 "nbformat": 4,
 "nbformat_minor": 5
}
